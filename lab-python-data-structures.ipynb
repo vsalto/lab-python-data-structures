{
 "cells": [
  {
   "cell_type": "markdown",
   "metadata": {
    "tags": []
   },
   "source": [
    "# Lab | Data Structures "
   ]
  },
  {
   "cell_type": "raw",
   "metadata": {},
   "source": [
    "# Exercise: Managing Customer Orders\n",
    "\n",
    "As part of a business venture, you are starting an online store that sells various products. To ensure smooth operations, you need to develop a program that manages customer orders and inventory.\n",
    "\n",
    "Follow the steps below to complete the exercise:\n",
    "\n",
    "1. Define a list called `products` that contains the following items: \"t-shirt\", \"mug\", \"hat\", \"book\", \"keychain\".\n",
    "\n",
    "2. Create an empty dictionary called `inventory`.\n",
    "\n",
    "3. Ask the user to input the quantity of each product available in the inventory. Use the product names from the `products` list as keys in the `inventory` dictionary and assign the respective quantities as values.\n",
    "\n",
    "4. Create an empty set called `customer_orders`.\n",
    "\n",
    "5. Ask the user to input the name of three products that a customer wants to order (from those in the products list, meaning three products out of \"t-shirt\", \"mug\", \"hat\", \"book\" or \"keychain\". Add each product name to the `customer_orders` set.\n",
    "\n",
    "6. Print the products in the `customer_orders` set.\n",
    "\n",
    "7. Calculate the following order statistics:\n",
    "   - Total Products Ordered: The total number of products in the `customer_orders` set.\n",
    "   - Percentage of Products Ordered: The percentage of products ordered compared to the total available products.\n",
    "   \n",
    "   Store these statistics in a tuple called `order_status`.\n",
    "\n",
    "8. Print the order statistics using the following format:\n",
    "   ```\n",
    "   Order Statistics:\n",
    "   Total Products Ordered: <total_products_ordered>\n",
    "   Percentage of Products Ordered: <percentage_ordered>% \n",
    "   ```\n",
    "\n",
    "9. Update the inventory by subtracting 1 from the quantity of each product. Modify the `inventory` dictionary accordingly.\n",
    "\n",
    "10. Print the updated inventory, displaying the quantity of each product on separate lines.\n",
    "\n",
    "Solve the exercise by implementing the steps using the Python concepts of lists, dictionaries, sets, and basic input/output operations. "
   ]
  },
  {
   "cell_type": "code",
   "execution_count": 1,
   "metadata": {},
   "outputs": [
    {
     "data": {
      "text/plain": [
       "'mug'"
      ]
     },
     "execution_count": 1,
     "metadata": {},
     "output_type": "execute_result"
    }
   ],
   "source": [
    "# List products\n",
    "products = [\"t-shirt\", \"mug\", \"hat\", \"book\", \"keychain\"]\n",
    "products[1]"
   ]
  },
  {
   "cell_type": "code",
   "execution_count": 2,
   "metadata": {},
   "outputs": [
    {
     "data": {
      "text/plain": [
       "dict"
      ]
     },
     "execution_count": 2,
     "metadata": {},
     "output_type": "execute_result"
    }
   ],
   "source": [
    "# Dictionary invenotry\n",
    "inventory = {}\n",
    "type(inventory)"
   ]
  },
  {
   "cell_type": "code",
   "execution_count": 3,
   "metadata": {},
   "outputs": [
    {
     "name": "stdout",
     "output_type": "stream",
     "text": [
      "Please enter the quantity of t-shirt in pieces7\n",
      "Please enter the quantity of mug in pieces32\n",
      "Please enter the quantity of hat in pieces21\n",
      "Please enter the quantity of book in pieces32\n",
      "Please enter the quantity of keychain in pieces43\n"
     ]
    },
    {
     "data": {
      "text/plain": [
       "{'t-shirt': '7', 'mug': '32', 'hat': '21', 'book': '32', 'keychain': '43'}"
      ]
     },
     "execution_count": 3,
     "metadata": {},
     "output_type": "execute_result"
    }
   ],
   "source": [
    "#3. Ask the user to input the quantity of each product available in the inventory. \n",
    "# Use the product names from the `products` list as keys in the `inventory` dictionary \n",
    "#and assign the respective quantities as values.\n",
    "#contacts = {'John': '312-555-1234', 'John': '111-111-1234', 'Paul': '312-555-3123', 'George': '312-555-3333', 'Ringo': '312-555-2222'}\n",
    "for i in products:\n",
    "    quantity = input('Please enter the quantity of ' + i + ' in pieces')\n",
    "    inventory [i] = quantity \n",
    "    \n",
    "inventory\n",
    "#input(\"Please enter your name: \")"
   ]
  },
  {
   "cell_type": "code",
   "execution_count": 4,
   "metadata": {},
   "outputs": [
    {
     "data": {
      "text/plain": [
       "set"
      ]
     },
     "execution_count": 4,
     "metadata": {},
     "output_type": "execute_result"
    }
   ],
   "source": [
    "#4. Create an empty set called `customer_orders`.\n",
    "customer_orders = set()\n",
    "type (customer_orders)"
   ]
  },
  {
   "cell_type": "code",
   "execution_count": 5,
   "metadata": {},
   "outputs": [
    {
     "name": "stdout",
     "output_type": "stream",
     "text": [
      "Please enter the product that you want to order out of ['t-shirt', 'mug', 'hat', 'book', 'keychain']mug\n",
      "Please enter the product that you want to order out of ['t-shirt', 'mug', 'hat', 'book', 'keychain']hat\n",
      "Please enter the product that you want to order out of ['t-shirt', 'mug', 'hat', 'book', 'keychain']book\n"
     ]
    },
    {
     "data": {
      "text/plain": [
       "{'book', 'hat', 'mug'}"
      ]
     },
     "execution_count": 5,
     "metadata": {},
     "output_type": "execute_result"
    }
   ],
   "source": [
    "#5. Ask the user to input the name of three products that a customer wants to order (from those in the \n",
    "# products list, meaning three products out of \"t-shirt\", \"mug\", \"hat\", \"book\" or \"keychain\". \n",
    "# Add each product name to the `customer_orders` set.#\n",
    "for i in range(0,3):\n",
    "    a = str(products)\n",
    "    order = input('Please enter the product that you want to order out of ' + a)\n",
    "    \n",
    " #   if str(print (inventory.get('order'))) != str('None') :\n",
    " #       order = input(\"Product not found. Try again in the list product.\" + a)\n",
    " #   else:\n",
    " #       order = order\n",
    "                \n",
    "    customer_orders.add (order)\n",
    "    \n",
    "customer_orders"
   ]
  },
  {
   "cell_type": "code",
   "execution_count": 6,
   "metadata": {},
   "outputs": [
    {
     "name": "stdout",
     "output_type": "stream",
     "text": [
      "{'mug', 'hat', 'book'}\n"
     ]
    }
   ],
   "source": [
    "# 6. Print the products in the `customer_orders` set.\n",
    "print (customer_orders)"
   ]
  },
  {
   "cell_type": "code",
   "execution_count": 7,
   "metadata": {},
   "outputs": [
    {
     "name": "stdout",
     "output_type": "stream",
     "text": [
      "Total Products Ordered: 3\n",
      "Percentage of Products Ordered: 60.0%\n"
     ]
    },
    {
     "data": {
      "text/plain": [
       "('Total Products Ordered', 3, 'Percentage of Products Ordered', 60.0)"
      ]
     },
     "execution_count": 7,
     "metadata": {},
     "output_type": "execute_result"
    }
   ],
   "source": [
    "# 7. Calculate the following order statistics:\n",
    "#   - Total Products Ordered: The total number of products in the `customer_orders` set.\n",
    "print ('Total Products Ordered: ' + str(len (customer_orders)))\n",
    "\n",
    "#  - Percentage of Products Ordered: The percentage of products ordered compared to the \n",
    "# total available products.\n",
    "print ('Percentage of Products Ordered: ' + str(100*len (customer_orders)/len(products)) + '%')\n",
    "\n",
    "# Store these statistics in a tuple called `order_status`.\n",
    "\n",
    "order_status = ('Total Products Ordered',len (customer_orders), 'Percentage of Products Ordered', 100*len (customer_orders)/len(products) )\n",
    "\n",
    "order_status"
   ]
  },
  {
   "cell_type": "code",
   "execution_count": 8,
   "metadata": {},
   "outputs": [
    {
     "name": "stdout",
     "output_type": "stream",
     "text": [
      "```\n",
      "Order Stattistics:\n",
      "Total Products Ordered: 3\n",
      "Percentage of Products Ordered: 60.0%\n",
      "```\n"
     ]
    }
   ],
   "source": [
    "# 8. Print the order statistics using the following format:\n",
    "#   ```\n",
    "#   Order Statistics:\n",
    "#   Total Products Ordered: <total_products_ordered>\n",
    "#   Percentage of Products Ordered: <percentage_ordered>% \n",
    "#   ```\n",
    "print ('```')\n",
    "print ('Order Stattistics:')\n",
    "print ('Total Products Ordered: ' + str(len (customer_orders)))\n",
    "print ('Percentage of Products Ordered: ' + str(100*len (customer_orders)/len(products)) + '%')\n",
    "print ('```')"
   ]
  },
  {
   "cell_type": "code",
   "execution_count": 9,
   "metadata": {},
   "outputs": [
    {
     "name": "stdout",
     "output_type": "stream",
     "text": [
      "31\n",
      "20\n",
      "31\n"
     ]
    },
    {
     "data": {
      "text/plain": [
       "{'t-shirt': '7', 'mug': 31, 'hat': 20, 'book': 31, 'keychain': '43'}"
      ]
     },
     "execution_count": 9,
     "metadata": {},
     "output_type": "execute_result"
    }
   ],
   "source": [
    "# 9. Update the inventory by subtracting 1 from the quantity of each product. \n",
    "# Modify the `inventory` dictionary accordingly.\n",
    "for i in customer_orders:\n",
    "    quantity = int(inventory.get(i))\n",
    "    quantity = quantity - 1\n",
    "    inventory [i] = quantity\n",
    "    print(quantity)\n",
    "    \n",
    "inventory"
   ]
  },
  {
   "cell_type": "code",
   "execution_count": 10,
   "metadata": {},
   "outputs": [
    {
     "name": "stdout",
     "output_type": "stream",
     "text": [
      "t-shirt: 7 pieces\n",
      "mug: 31 pieces\n",
      "hat: 20 pieces\n",
      "book: 31 pieces\n",
      "keychain: 43 pieces\n"
     ]
    }
   ],
   "source": [
    "# 10. Print the updated inventory, displaying the quantity of each product on separate lines.\n",
    "\n",
    "for i in inventory:\n",
    "    print (i + ': ' + str(inventory.get(i)) + ' pieces')"
   ]
  },
  {
   "cell_type": "code",
   "execution_count": null,
   "metadata": {},
   "outputs": [],
   "source": []
  }
 ],
 "metadata": {
  "kernelspec": {
   "display_name": "Python 3 (ipykernel)",
   "language": "python",
   "name": "python3"
  },
  "language_info": {
   "codemirror_mode": {
    "name": "ipython",
    "version": 3
   },
   "file_extension": ".py",
   "mimetype": "text/x-python",
   "name": "python",
   "nbconvert_exporter": "python",
   "pygments_lexer": "ipython3",
   "version": "3.11.7"
  }
 },
 "nbformat": 4,
 "nbformat_minor": 4
}
